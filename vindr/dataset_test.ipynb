{
 "cells": [
  {
   "cell_type": "code",
   "execution_count": 33,
   "metadata": {},
   "outputs": [
    {
     "name": "stdout",
     "output_type": "stream",
     "text": [
      "Collecting pylibjpeg\n",
      "  Downloading pylibjpeg-1.4.0-py3-none-any.whl (28 kB)\n",
      "Requirement already satisfied: numpy in c:\\users\\shriv\\appdata\\roaming\\python\\python38\\site-packages (from pylibjpeg) (1.22.3)\n",
      "Installing collected packages: pylibjpeg\n",
      "Successfully installed pylibjpeg-1.4.0\n"
     ]
    },
    {
     "name": "stderr",
     "output_type": "stream",
     "text": [
      "WARNING: You are using pip version 22.0.4; however, version 22.1 is available.\n",
      "You should consider upgrading via the 'c:\\users\\shriv\\appdata\\local\\programs\\python\\python38\\python.exe -m pip install --upgrade pip' command.\n"
     ]
    }
   ],
   "source": [
    "# !pip install pydicom\n",
    "# !pip install pylibjpeg"
   ]
  },
  {
   "cell_type": "code",
   "execution_count": 3,
   "metadata": {},
   "outputs": [],
   "source": [
    "from torch.utils.data import Dataset, DataLoader\n",
    "import os\n",
    "import pydicom\n",
    "import torch\n",
    "import torchvision\n",
    "import torchvision.transforms as transforms\n",
    "\n",
    "import pylibjpeg\n",
    "\n",
    "import numpy as np\n",
    "import pandas as pd\n",
    "import matplotlib.pyplot as plt\n",
    "import seaborn as sns\n",
    "\n",
    "class FaceLandmarksDataset(Dataset):\n",
    "    \"\"\"Face Landmarks dataset.\"\"\"\n",
    "\n",
    "    def __init__(self, csv_file, root_dir, transform=None):\n",
    "        \"\"\"\n",
    "        Args:\n",
    "            csv_file (string): Path to the csv file with annotations/labels.\n",
    "            root_dir (string): Directory with all the images.\n",
    "            transform (callable, optional): Optional transform to be applied\n",
    "                on a sample.\n",
    "        \"\"\"\n",
    "        self.image_labels = pd.read_csv(csv_file)\n",
    "        self.root_dir = root_dir\n",
    "\n",
    "    def __len__(self):\n",
    "        return self.image_labels.shape[0]\n",
    "\n",
    "    def __getitem__(self, idx):\n",
    "        if torch.is_tensor(idx):\n",
    "            idx = idx.tolist()\n",
    "        image_file = pydicom.dcmread(os.path.join(self.root_dir, f'{self.image_labels.iloc[idx, 0]}.dicom'))\n",
    "        image = np.array(image_file.pixel_array, dtype=np.float32)[np.newaxis]  # Add channel dimension\n",
    "        image = torch.from_numpy(image)\n",
    "        label = self.image_labels.iloc[idx, 1:].astype(float)\n",
    "        if self.transform:\n",
    "            image = self.transform(image)\n",
    "\n",
    "        return image, label"
   ]
  },
  {
   "cell_type": "code",
   "execution_count": 4,
   "metadata": {},
   "outputs": [
    {
     "ename": "FileNotFoundError",
     "evalue": "[Errno 2] No such file or directory: 'C:\\\\designcredit\\\\designcredit\\\\vindr-pediatric-chest-x-ray-common-thoracic-diseases\\\\vindr\\\\image_labels_train.csv'",
     "output_type": "error",
     "traceback": [
      "\u001b[1;31m---------------------------------------------------------------------------\u001b[0m",
      "\u001b[1;31mFileNotFoundError\u001b[0m                         Traceback (most recent call last)",
      "\u001b[1;32mc:\\designcredit\\designcredit\\vindr-pediatric-chest-x-ray-common-thoracic-diseases\\vindr\\dataset_test.ipynb Cell 3'\u001b[0m in \u001b[0;36m<cell line: 3>\u001b[1;34m()\u001b[0m\n\u001b[0;32m      <a href='vscode-notebook-cell:/c%3A/designcredit/designcredit/vindr-pediatric-chest-x-ray-common-thoracic-diseases/vindr/dataset_test.ipynb#ch0000002?line=0'>1</a>\u001b[0m train_labels_path \u001b[39m=\u001b[39m \u001b[39mr\u001b[39m\u001b[39m\"\u001b[39m\u001b[39mC:\u001b[39m\u001b[39m\\\u001b[39m\u001b[39mdesigncredit\u001b[39m\u001b[39m\\\u001b[39m\u001b[39mdesigncredit\u001b[39m\u001b[39m\\\u001b[39m\u001b[39mvindr-pediatric-chest-x-ray-common-thoracic-diseases\u001b[39m\u001b[39m\\\u001b[39m\u001b[39mvindr\u001b[39m\u001b[39m\\\u001b[39m\u001b[39mimage_labels_train.csv\u001b[39m\u001b[39m\"\u001b[39m\n\u001b[0;32m      <a href='vscode-notebook-cell:/c%3A/designcredit/designcredit/vindr-pediatric-chest-x-ray-common-thoracic-diseases/vindr/dataset_test.ipynb#ch0000002?line=1'>2</a>\u001b[0m train_images_path \u001b[39m=\u001b[39m \u001b[39mr\u001b[39m\u001b[39m\"\u001b[39m\u001b[39mC:\u001b[39m\u001b[39m\\\u001b[39m\u001b[39mdesigncredit\u001b[39m\u001b[39m\\\u001b[39m\u001b[39mdesigncredit\u001b[39m\u001b[39m\\\u001b[39m\u001b[39mvindr-pediatric-chest-x-ray-common-thoracic-diseases\u001b[39m\u001b[39m\\\u001b[39m\u001b[39mvindr\u001b[39m\u001b[39m\\\u001b[39m\u001b[39mtrain\u001b[39m\u001b[39m\"\u001b[39m\n\u001b[1;32m----> <a href='vscode-notebook-cell:/c%3A/designcredit/designcredit/vindr-pediatric-chest-x-ray-common-thoracic-diseases/vindr/dataset_test.ipynb#ch0000002?line=2'>3</a>\u001b[0m train_ds \u001b[39m=\u001b[39m FaceLandmarksDataset(train_labels_path, train_images_path, transform\u001b[39m=\u001b[39;49m\u001b[39mNone\u001b[39;49;00m)\n\u001b[0;32m      <a href='vscode-notebook-cell:/c%3A/designcredit/designcredit/vindr-pediatric-chest-x-ray-common-thoracic-diseases/vindr/dataset_test.ipynb#ch0000002?line=4'>5</a>\u001b[0m train_loader \u001b[39m=\u001b[39m torch\u001b[39m.\u001b[39mutils\u001b[39m.\u001b[39mdata\u001b[39m.\u001b[39mDataLoader(train_ds,\n\u001b[0;32m      <a href='vscode-notebook-cell:/c%3A/designcredit/designcredit/vindr-pediatric-chest-x-ray-common-thoracic-diseases/vindr/dataset_test.ipynb#ch0000002?line=5'>6</a>\u001b[0m                                             batch_size\u001b[39m=\u001b[39m\u001b[39m4\u001b[39m, shuffle\u001b[39m=\u001b[39m\u001b[39mTrue\u001b[39;00m)\n",
      "\u001b[1;32mc:\\designcredit\\designcredit\\vindr-pediatric-chest-x-ray-common-thoracic-diseases\\vindr\\dataset_test.ipynb Cell 2'\u001b[0m in \u001b[0;36mFaceLandmarksDataset.__init__\u001b[1;34m(self, csv_file, root_dir, transform)\u001b[0m\n\u001b[0;32m     <a href='vscode-notebook-cell:/c%3A/designcredit/designcredit/vindr-pediatric-chest-x-ray-common-thoracic-diseases/vindr/dataset_test.ipynb#ch0000001?line=17'>18</a>\u001b[0m \u001b[39mdef\u001b[39;00m \u001b[39m__init__\u001b[39m(\u001b[39mself\u001b[39m, csv_file, root_dir, transform\u001b[39m=\u001b[39m\u001b[39mNone\u001b[39;00m):\n\u001b[0;32m     <a href='vscode-notebook-cell:/c%3A/designcredit/designcredit/vindr-pediatric-chest-x-ray-common-thoracic-diseases/vindr/dataset_test.ipynb#ch0000001?line=18'>19</a>\u001b[0m     \u001b[39m\"\"\"\u001b[39;00m\n\u001b[0;32m     <a href='vscode-notebook-cell:/c%3A/designcredit/designcredit/vindr-pediatric-chest-x-ray-common-thoracic-diseases/vindr/dataset_test.ipynb#ch0000001?line=19'>20</a>\u001b[0m \u001b[39m    Args:\u001b[39;00m\n\u001b[0;32m     <a href='vscode-notebook-cell:/c%3A/designcredit/designcredit/vindr-pediatric-chest-x-ray-common-thoracic-diseases/vindr/dataset_test.ipynb#ch0000001?line=20'>21</a>\u001b[0m \u001b[39m        csv_file (string): Path to the csv file with annotations/labels.\u001b[39;00m\n\u001b[1;32m   (...)\u001b[0m\n\u001b[0;32m     <a href='vscode-notebook-cell:/c%3A/designcredit/designcredit/vindr-pediatric-chest-x-ray-common-thoracic-diseases/vindr/dataset_test.ipynb#ch0000001?line=23'>24</a>\u001b[0m \u001b[39m            on a sample.\u001b[39;00m\n\u001b[0;32m     <a href='vscode-notebook-cell:/c%3A/designcredit/designcredit/vindr-pediatric-chest-x-ray-common-thoracic-diseases/vindr/dataset_test.ipynb#ch0000001?line=24'>25</a>\u001b[0m \u001b[39m    \"\"\"\u001b[39;00m\n\u001b[1;32m---> <a href='vscode-notebook-cell:/c%3A/designcredit/designcredit/vindr-pediatric-chest-x-ray-common-thoracic-diseases/vindr/dataset_test.ipynb#ch0000001?line=25'>26</a>\u001b[0m     \u001b[39mself\u001b[39m\u001b[39m.\u001b[39mimage_labels \u001b[39m=\u001b[39m pd\u001b[39m.\u001b[39;49mread_csv(csv_file)\n\u001b[0;32m     <a href='vscode-notebook-cell:/c%3A/designcredit/designcredit/vindr-pediatric-chest-x-ray-common-thoracic-diseases/vindr/dataset_test.ipynb#ch0000001?line=26'>27</a>\u001b[0m     \u001b[39mself\u001b[39m\u001b[39m.\u001b[39mroot_dir \u001b[39m=\u001b[39m root_dir\n",
      "File \u001b[1;32mc:\\Users\\shriv\\AppData\\Local\\Programs\\Python\\Python38\\lib\\site-packages\\pandas\\io\\parsers.py:688\u001b[0m, in \u001b[0;36mread_csv\u001b[1;34m(filepath_or_buffer, sep, delimiter, header, names, index_col, usecols, squeeze, prefix, mangle_dupe_cols, dtype, engine, converters, true_values, false_values, skipinitialspace, skiprows, skipfooter, nrows, na_values, keep_default_na, na_filter, verbose, skip_blank_lines, parse_dates, infer_datetime_format, keep_date_col, date_parser, dayfirst, cache_dates, iterator, chunksize, compression, thousands, decimal, lineterminator, quotechar, quoting, doublequote, escapechar, comment, encoding, dialect, error_bad_lines, warn_bad_lines, delim_whitespace, low_memory, memory_map, float_precision)\u001b[0m\n\u001b[0;32m    <a href='file:///c%3A/Users/shriv/AppData/Local/Programs/Python/Python38/lib/site-packages/pandas/io/parsers.py?line=634'>635</a>\u001b[0m     engine_specified \u001b[39m=\u001b[39m \u001b[39mFalse\u001b[39;00m\n\u001b[0;32m    <a href='file:///c%3A/Users/shriv/AppData/Local/Programs/Python/Python38/lib/site-packages/pandas/io/parsers.py?line=636'>637</a>\u001b[0m kwds\u001b[39m.\u001b[39mupdate(\n\u001b[0;32m    <a href='file:///c%3A/Users/shriv/AppData/Local/Programs/Python/Python38/lib/site-packages/pandas/io/parsers.py?line=637'>638</a>\u001b[0m     delimiter\u001b[39m=\u001b[39mdelimiter,\n\u001b[0;32m    <a href='file:///c%3A/Users/shriv/AppData/Local/Programs/Python/Python38/lib/site-packages/pandas/io/parsers.py?line=638'>639</a>\u001b[0m     engine\u001b[39m=\u001b[39mengine,\n\u001b[1;32m   (...)\u001b[0m\n\u001b[0;32m    <a href='file:///c%3A/Users/shriv/AppData/Local/Programs/Python/Python38/lib/site-packages/pandas/io/parsers.py?line=684'>685</a>\u001b[0m     skip_blank_lines\u001b[39m=\u001b[39mskip_blank_lines,\n\u001b[0;32m    <a href='file:///c%3A/Users/shriv/AppData/Local/Programs/Python/Python38/lib/site-packages/pandas/io/parsers.py?line=685'>686</a>\u001b[0m )\n\u001b[1;32m--> <a href='file:///c%3A/Users/shriv/AppData/Local/Programs/Python/Python38/lib/site-packages/pandas/io/parsers.py?line=687'>688</a>\u001b[0m \u001b[39mreturn\u001b[39;00m _read(filepath_or_buffer, kwds)\n",
      "File \u001b[1;32mc:\\Users\\shriv\\AppData\\Local\\Programs\\Python\\Python38\\lib\\site-packages\\pandas\\io\\parsers.py:454\u001b[0m, in \u001b[0;36m_read\u001b[1;34m(filepath_or_buffer, kwds)\u001b[0m\n\u001b[0;32m    <a href='file:///c%3A/Users/shriv/AppData/Local/Programs/Python/Python38/lib/site-packages/pandas/io/parsers.py?line=450'>451</a>\u001b[0m _validate_names(kwds\u001b[39m.\u001b[39mget(\u001b[39m\"\u001b[39m\u001b[39mnames\u001b[39m\u001b[39m\"\u001b[39m, \u001b[39mNone\u001b[39;00m))\n\u001b[0;32m    <a href='file:///c%3A/Users/shriv/AppData/Local/Programs/Python/Python38/lib/site-packages/pandas/io/parsers.py?line=452'>453</a>\u001b[0m \u001b[39m# Create the parser.\u001b[39;00m\n\u001b[1;32m--> <a href='file:///c%3A/Users/shriv/AppData/Local/Programs/Python/Python38/lib/site-packages/pandas/io/parsers.py?line=453'>454</a>\u001b[0m parser \u001b[39m=\u001b[39m TextFileReader(fp_or_buf, \u001b[39m*\u001b[39;49m\u001b[39m*\u001b[39;49mkwds)\n\u001b[0;32m    <a href='file:///c%3A/Users/shriv/AppData/Local/Programs/Python/Python38/lib/site-packages/pandas/io/parsers.py?line=455'>456</a>\u001b[0m \u001b[39mif\u001b[39;00m chunksize \u001b[39mor\u001b[39;00m iterator:\n\u001b[0;32m    <a href='file:///c%3A/Users/shriv/AppData/Local/Programs/Python/Python38/lib/site-packages/pandas/io/parsers.py?line=456'>457</a>\u001b[0m     \u001b[39mreturn\u001b[39;00m parser\n",
      "File \u001b[1;32mc:\\Users\\shriv\\AppData\\Local\\Programs\\Python\\Python38\\lib\\site-packages\\pandas\\io\\parsers.py:948\u001b[0m, in \u001b[0;36mTextFileReader.__init__\u001b[1;34m(self, f, engine, **kwds)\u001b[0m\n\u001b[0;32m    <a href='file:///c%3A/Users/shriv/AppData/Local/Programs/Python/Python38/lib/site-packages/pandas/io/parsers.py?line=944'>945</a>\u001b[0m \u001b[39mif\u001b[39;00m \u001b[39m\"\u001b[39m\u001b[39mhas_index_names\u001b[39m\u001b[39m\"\u001b[39m \u001b[39min\u001b[39;00m kwds:\n\u001b[0;32m    <a href='file:///c%3A/Users/shriv/AppData/Local/Programs/Python/Python38/lib/site-packages/pandas/io/parsers.py?line=945'>946</a>\u001b[0m     \u001b[39mself\u001b[39m\u001b[39m.\u001b[39moptions[\u001b[39m\"\u001b[39m\u001b[39mhas_index_names\u001b[39m\u001b[39m\"\u001b[39m] \u001b[39m=\u001b[39m kwds[\u001b[39m\"\u001b[39m\u001b[39mhas_index_names\u001b[39m\u001b[39m\"\u001b[39m]\n\u001b[1;32m--> <a href='file:///c%3A/Users/shriv/AppData/Local/Programs/Python/Python38/lib/site-packages/pandas/io/parsers.py?line=947'>948</a>\u001b[0m \u001b[39mself\u001b[39;49m\u001b[39m.\u001b[39;49m_make_engine(\u001b[39mself\u001b[39;49m\u001b[39m.\u001b[39;49mengine)\n",
      "File \u001b[1;32mc:\\Users\\shriv\\AppData\\Local\\Programs\\Python\\Python38\\lib\\site-packages\\pandas\\io\\parsers.py:1180\u001b[0m, in \u001b[0;36mTextFileReader._make_engine\u001b[1;34m(self, engine)\u001b[0m\n\u001b[0;32m   <a href='file:///c%3A/Users/shriv/AppData/Local/Programs/Python/Python38/lib/site-packages/pandas/io/parsers.py?line=1177'>1178</a>\u001b[0m \u001b[39mdef\u001b[39;00m \u001b[39m_make_engine\u001b[39m(\u001b[39mself\u001b[39m, engine\u001b[39m=\u001b[39m\u001b[39m\"\u001b[39m\u001b[39mc\u001b[39m\u001b[39m\"\u001b[39m):\n\u001b[0;32m   <a href='file:///c%3A/Users/shriv/AppData/Local/Programs/Python/Python38/lib/site-packages/pandas/io/parsers.py?line=1178'>1179</a>\u001b[0m     \u001b[39mif\u001b[39;00m engine \u001b[39m==\u001b[39m \u001b[39m\"\u001b[39m\u001b[39mc\u001b[39m\u001b[39m\"\u001b[39m:\n\u001b[1;32m-> <a href='file:///c%3A/Users/shriv/AppData/Local/Programs/Python/Python38/lib/site-packages/pandas/io/parsers.py?line=1179'>1180</a>\u001b[0m         \u001b[39mself\u001b[39m\u001b[39m.\u001b[39m_engine \u001b[39m=\u001b[39m CParserWrapper(\u001b[39mself\u001b[39;49m\u001b[39m.\u001b[39;49mf, \u001b[39m*\u001b[39;49m\u001b[39m*\u001b[39;49m\u001b[39mself\u001b[39;49m\u001b[39m.\u001b[39;49moptions)\n\u001b[0;32m   <a href='file:///c%3A/Users/shriv/AppData/Local/Programs/Python/Python38/lib/site-packages/pandas/io/parsers.py?line=1180'>1181</a>\u001b[0m     \u001b[39melse\u001b[39;00m:\n\u001b[0;32m   <a href='file:///c%3A/Users/shriv/AppData/Local/Programs/Python/Python38/lib/site-packages/pandas/io/parsers.py?line=1181'>1182</a>\u001b[0m         \u001b[39mif\u001b[39;00m engine \u001b[39m==\u001b[39m \u001b[39m\"\u001b[39m\u001b[39mpython\u001b[39m\u001b[39m\"\u001b[39m:\n",
      "File \u001b[1;32mc:\\Users\\shriv\\AppData\\Local\\Programs\\Python\\Python38\\lib\\site-packages\\pandas\\io\\parsers.py:2010\u001b[0m, in \u001b[0;36mCParserWrapper.__init__\u001b[1;34m(self, src, **kwds)\u001b[0m\n\u001b[0;32m   <a href='file:///c%3A/Users/shriv/AppData/Local/Programs/Python/Python38/lib/site-packages/pandas/io/parsers.py?line=2006'>2007</a>\u001b[0m \u001b[39mself\u001b[39m\u001b[39m.\u001b[39musecols, \u001b[39mself\u001b[39m\u001b[39m.\u001b[39musecols_dtype \u001b[39m=\u001b[39m _validate_usecols_arg(kwds[\u001b[39m\"\u001b[39m\u001b[39musecols\u001b[39m\u001b[39m\"\u001b[39m])\n\u001b[0;32m   <a href='file:///c%3A/Users/shriv/AppData/Local/Programs/Python/Python38/lib/site-packages/pandas/io/parsers.py?line=2007'>2008</a>\u001b[0m kwds[\u001b[39m\"\u001b[39m\u001b[39musecols\u001b[39m\u001b[39m\"\u001b[39m] \u001b[39m=\u001b[39m \u001b[39mself\u001b[39m\u001b[39m.\u001b[39musecols\n\u001b[1;32m-> <a href='file:///c%3A/Users/shriv/AppData/Local/Programs/Python/Python38/lib/site-packages/pandas/io/parsers.py?line=2009'>2010</a>\u001b[0m \u001b[39mself\u001b[39m\u001b[39m.\u001b[39m_reader \u001b[39m=\u001b[39m parsers\u001b[39m.\u001b[39;49mTextReader(src, \u001b[39m*\u001b[39;49m\u001b[39m*\u001b[39;49mkwds)\n\u001b[0;32m   <a href='file:///c%3A/Users/shriv/AppData/Local/Programs/Python/Python38/lib/site-packages/pandas/io/parsers.py?line=2010'>2011</a>\u001b[0m \u001b[39mself\u001b[39m\u001b[39m.\u001b[39munnamed_cols \u001b[39m=\u001b[39m \u001b[39mself\u001b[39m\u001b[39m.\u001b[39m_reader\u001b[39m.\u001b[39munnamed_cols\n\u001b[0;32m   <a href='file:///c%3A/Users/shriv/AppData/Local/Programs/Python/Python38/lib/site-packages/pandas/io/parsers.py?line=2012'>2013</a>\u001b[0m passed_names \u001b[39m=\u001b[39m \u001b[39mself\u001b[39m\u001b[39m.\u001b[39mnames \u001b[39mis\u001b[39;00m \u001b[39mNone\u001b[39;00m\n",
      "File \u001b[1;32mpandas\\_libs\\parsers.pyx:382\u001b[0m, in \u001b[0;36mpandas._libs.parsers.TextReader.__cinit__\u001b[1;34m()\u001b[0m\n",
      "File \u001b[1;32mpandas\\_libs\\parsers.pyx:674\u001b[0m, in \u001b[0;36mpandas._libs.parsers.TextReader._setup_parser_source\u001b[1;34m()\u001b[0m\n",
      "\u001b[1;31mFileNotFoundError\u001b[0m: [Errno 2] No such file or directory: 'C:\\\\designcredit\\\\designcredit\\\\vindr-pediatric-chest-x-ray-common-thoracic-diseases\\\\vindr\\\\image_labels_train.csv'"
     ]
    }
   ],
   "source": [
    "train_labels_path = r\"C:\\designcredit\\designcredit\\vindr-pediatric-chest-x-ray-common-thoracic-diseases\\vindr\\image_labels_train.csv\"\n",
    "train_images_path = r\"C:\\designcredit\\designcredit\\vindr-pediatric-chest-x-ray-common-thoracic-diseases\\vindr\\train\"\n",
    "train_ds = FaceLandmarksDataset(train_labels_path, train_images_path, transform=None)\n",
    "\n",
    "train_loader = torch.utils.data.DataLoader(train_ds,\n",
    "                                            batch_size=4, shuffle=True)"
   ]
  },
  {
   "cell_type": "code",
   "execution_count": null,
   "metadata": {},
   "outputs": [
    {
     "ename": "NameError",
     "evalue": "name 'train_loader' is not defined",
     "output_type": "error",
     "traceback": [
      "\u001b[1;31m---------------------------------------------------------------------------\u001b[0m",
      "\u001b[1;31mNameError\u001b[0m                                 Traceback (most recent call last)",
      "\u001b[1;32mc:\\designcredit\\designcredit\\vindr-pediatric-chest-x-ray-common-thoracic-diseases\\vindr\\dataset_test.ipynb Cell 4'\u001b[0m in \u001b[0;36m<cell line: 1>\u001b[1;34m()\u001b[0m\n\u001b[1;32m----> <a href='vscode-notebook-cell:/c%3A/designcredit/designcredit/vindr-pediatric-chest-x-ray-common-thoracic-diseases/vindr/dataset_test.ipynb#ch0000003?line=0'>1</a>\u001b[0m \u001b[39mfor\u001b[39;00m image, label \u001b[39min\u001b[39;00m train_loader:\n\u001b[0;32m      <a href='vscode-notebook-cell:/c%3A/designcredit/designcredit/vindr-pediatric-chest-x-ray-common-thoracic-diseases/vindr/dataset_test.ipynb#ch0000003?line=1'>2</a>\u001b[0m     \u001b[39mprint\u001b[39m(image\u001b[39m.\u001b[39mshape, label\u001b[39m.\u001b[39mshape)\n\u001b[0;32m      <a href='vscode-notebook-cell:/c%3A/designcredit/designcredit/vindr-pediatric-chest-x-ray-common-thoracic-diseases/vindr/dataset_test.ipynb#ch0000003?line=2'>3</a>\u001b[0m     \u001b[39mbreak\u001b[39;00m\n",
      "\u001b[1;31mNameError\u001b[0m: name 'train_loader' is not defined"
     ]
    }
   ],
   "source": [
    "for image, label in train_loader:\n",
    "    print(image.shape, label.shape)\n",
    "    break"
   ]
  }
 ],
 "metadata": {
  "interpreter": {
   "hash": "c163f7d3600bce78318f6aebf70f2fd9e9ada0d9e383f1dbf1d4b5484416c593"
  },
  "kernelspec": {
   "display_name": "Python 3.8.0 64-bit",
   "language": "python",
   "name": "python3"
  },
  "language_info": {
   "codemirror_mode": {
    "name": "ipython",
    "version": 3
   },
   "file_extension": ".py",
   "mimetype": "text/x-python",
   "name": "python",
   "nbconvert_exporter": "python",
   "pygments_lexer": "ipython3",
   "version": "3.8.0"
  },
  "orig_nbformat": 4
 },
 "nbformat": 4,
 "nbformat_minor": 2
}
