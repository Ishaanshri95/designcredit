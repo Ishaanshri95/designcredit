{
 "cells": [
  {
   "cell_type": "code",
   "execution_count": 1,
   "id": "20c21993",
   "metadata": {},
   "outputs": [
    {
     "name": "stdout",
     "output_type": "stream",
     "text": [
      "Requirement already satisfied: torch in c:\\users\\shriv\\appdata\\local\\programs\\python\\python38\\lib\\site-packages (1.7.1+cu110)\n",
      "Requirement already satisfied: typing-extensions in c:\\users\\shriv\\appdata\\local\\programs\\python\\python38\\lib\\site-packages (from torch) (4.1.1)\n",
      "Requirement already satisfied: numpy in c:\\users\\shriv\\appdata\\roaming\\python\\python38\\site-packages (from torch) (1.22.3)\n",
      "Note: you may need to restart the kernel to use updated packages.\n"
     ]
    }
   ],
   "source": [
    "pip install torch"
   ]
  },
  {
   "cell_type": "code",
   "execution_count": 2,
   "id": "b9091de1",
   "metadata": {},
   "outputs": [
    {
     "name": "stdout",
     "output_type": "stream",
     "text": [
      "Requirement already satisfied: pydicom in c:\\users\\shriv\\appdata\\local\\programs\\python\\python38\\lib\\site-packages (2.3.0)\n",
      "Note: you may need to restart the kernel to use updated packages.\n"
     ]
    }
   ],
   "source": [
    "pip install pydicom"
   ]
  },
  {
   "cell_type": "code",
   "execution_count": 3,
   "id": "374e060a",
   "metadata": {},
   "outputs": [
    {
     "name": "stdout",
     "output_type": "stream",
     "text": [
      "Collecting gdcmNote: you may need to restart the kernel to use updated packages.\n",
      "\n",
      "  Downloading gdcm-1.1-py3-none-win_amd64.whl (4.0 MB)\n",
      "     ---------------------------------------- 4.0/4.0 MB 8.8 MB/s eta 0:00:00\n",
      "Installing collected packages: gdcm\n",
      "Successfully installed gdcm-1.1\n"
     ]
    }
   ],
   "source": [
    "pip install gdcm"
   ]
  },
  {
   "cell_type": "code",
   "execution_count": 4,
   "id": "8fe05749",
   "metadata": {},
   "outputs": [
    {
     "name": "stdout",
     "output_type": "stream",
     "text": [
      "Requirement already satisfied: pylibjpeg[all] in c:\\users\\shriv\\appdata\\local\\programs\\python\\python38\\lib\\site-packages (1.4.0)\n",
      "Requirement already satisfied: numpy in c:\\users\\shriv\\appdata\\roaming\\python\\python38\\site-packages (from pylibjpeg[all]) (1.22.3)\n",
      "Requirement already satisfied: pylibjpeg-libjpeg in c:\\users\\shriv\\appdata\\local\\programs\\python\\python38\\lib\\site-packages (from pylibjpeg[all]) (1.3.1)\n",
      "Collecting pylibjpeg-openjpeg\n",
      "  Downloading pylibjpeg_openjpeg-1.2.1-cp38-cp38-win_amd64.whl (564 kB)\n",
      "     -------------------------------------- 564.4/564.4 kB 5.1 MB/s eta 0:00:00\n",
      "Collecting pylibjpeg-rle\n",
      "  Downloading pylibjpeg_rle-1.3.0-cp38-cp38-win_amd64.whl (138 kB)\n",
      "     -------------------------------------- 138.2/138.2 kB 2.0 MB/s eta 0:00:00\n",
      "Installing collected packages: pylibjpeg-rle, pylibjpeg-openjpeg\n",
      "Successfully installed pylibjpeg-openjpeg-1.2.1 pylibjpeg-rle-1.3.0\n",
      "Note: you may need to restart the kernel to use updated packages.\n"
     ]
    }
   ],
   "source": [
    "pip install pylibjpeg[all]"
   ]
  },
  {
   "cell_type": "code",
   "execution_count": 15,
   "id": "b5849726",
   "metadata": {},
   "outputs": [],
   "source": [
    "import torch\n",
    "from torch.utils.data import Dataset\n",
    "import os\n",
    "import pydicom\n",
    "import matplotlib.pyplot as plt\n",
    "import pandas as pd\n",
    "import numpy as np\n",
    "import seaborn as sns\n",
    "import matplotlib.pyplot as plt\n",
    "\n",
    "\n",
    "\n",
    "class MyDataset(Dataset):\n",
    "\n",
    "    def __init__(self, csv_path, img_dir, transform=None):\n",
    "    \n",
    "        df = pd.read_csv(csv_path)\n",
    "        self.img_dir = img_dir\n",
    "        self.img_names = df['image_id']\n",
    "        df_temp = df.drop(['image_id','rad_ID'],axis = 1)\n",
    "        list_of_cols = list(df_temp.columns)\n",
    "        df_x = list(df.sum(axis = 1))\n",
    "        df['sum'] = df_x\n",
    "        df = df[df['sum']<=1]\n",
    "        n1,n2 = df.shape\n",
    "        Y = []\n",
    "        print(list_of_cols)\n",
    "        for ind in df.index:\n",
    "            for j in list_of_cols:\n",
    "                if(df[j][ind] == 1):\n",
    "                    Y.append(j)\n",
    "                    break\n",
    "        \n",
    "\n",
    "        self.y = np.array(Y)\n",
    "        self.transform = transform\n",
    "\n",
    "    def __getitem__(self, index):\n",
    "        img = pydicom.dcmread(os.path.join(self.img_dir,self.img_names[index])+'.dicom')\n",
    "        plt.imshow(img.pixel_array, cmap=plt.cm.bone) \n",
    "        print(img.pixel_array.max(), img.pixel_array.min())\n",
    "        # sns.kdeplot(img.pixel_array.reshape(-1))\n",
    "        # plt.show()\n",
    "        \n",
    "        if self.transform is not None:\n",
    "            img = self.transform(img)\n",
    "        \n",
    "        label = self.y[index]\n",
    "        return img, label\n",
    "\n",
    "    def __len__(self):\n",
    "        return len(self.y)"
   ]
  },
  {
   "cell_type": "code",
   "execution_count": 16,
   "id": "93d091a1",
   "metadata": {},
   "outputs": [
    {
     "name": "stdout",
     "output_type": "stream",
     "text": [
      "['No finding', 'Bronchitis', 'Brocho-pneumonia', 'Other disease', 'Bronchiolitis', 'Situs inversus', 'Pneumonia', 'Pleuro-pneumonia', 'Diagphramatic hernia', 'Tuberculosis', 'Congenital emphysema', 'CPAM', 'Hyaline membrane disease', 'Mediastinal tumor', 'Lung tumor']\n"
     ]
    }
   ],
   "source": [
    "train_data = MyDataset('image_labels_train.csv','train')\n"
   ]
  },
  {
   "cell_type": "code",
   "execution_count": 17,
   "id": "48d70b0e",
   "metadata": {},
   "outputs": [
    {
     "name": "stdout",
     "output_type": "stream",
     "text": [
      "3689 0\n"
     ]
    },
    {
     "data": {
      "image/png": "[encoded data removed]",
      "text/plain": [
       "<Figure size 432x288 with 1 Axes>"
      ]
     },
     "metadata": {
      "needs_background": "light"
     },
     "output_type": "display_data"
    },
    {
     "name": "stderr",
     "output_type": "stream",
     "text": [
      "c:\\Users\\shriv\\AppData\\Local\\Programs\\Python\\Python38\\lib\\site-packages\\pydicom\\valuerep.py:290: UserWarning: Invalid value for VR UI: '40414c05687cdb156823c156967b13f0'. Please see <https://dicom.nema.org/medical/dicom/current/output/html/part05.html#table_6.2-1> for allowed values for each VR.\n",
      "  warnings.warn(msg)\n"
     ]
    },
    {
     "data": {
      "text/plain": [
       "(Dataset.file_meta -------------------------------\n",
       " (0002, 0000) File Meta Information Group Length  UL: 160\n",
       " (0002, 0001) File Meta Information Version       OB: b'\\x00\\x01'\n",
       " (0002, 0002) Media Storage SOP Class UID         UI: Digital X-Ray Image Storage - For Presentation\n",
       " (0002, 0003) Media Storage SOP Instance UID      UI: 40414c05687cdb156823c156967b13f0\n",
       " (0002, 0010) Transfer Syntax UID                 UI: JPEG Lossless, Non-Hierarchical (Process 14)\n",
       " (0002, 0012) Implementation Class UID            UI: 1.2.3.4\n",
       " (0002, 0013) Implementation Version Name         SH: 'OFFIS_DCMTK_364'\n",
       " -------------------------------------------------\n",
       " (0010, 0040) Patient's Sex                       CS: 'M'\n",
       " (0010, 1010) Patient's Age                       AS: '002M'\n",
       " (0010, 1030) Patient's Weight                    DS: None\n",
       " (0028, 0002) Samples per Pixel                   US: 1\n",
       " (0028, 0004) Photometric Interpretation          CS: 'MONOCHROME1'\n",
       " (0028, 0010) Rows                                US: 1310\n",
       " (0028, 0011) Columns                             US: 1144\n",
       " (0028, 0030) Pixel Spacing                       DS: None\n",
       " (0028, 0100) Bits Allocated                      US: 16\n",
       " (0028, 0101) Bits Stored                         US: 12\n",
       " (0028, 0102) High Bit                            US: 11\n",
       " (0028, 0103) Pixel Representation                US: 0\n",
       " (0028, 1050) Window Center                       DS: '2048.0'\n",
       " (0028, 1051) Window Width                        DS: '4096.0'\n",
       " (0028, 1052) Rescale Intercept                   DS: '0.0'\n",
       " (0028, 1053) Rescale Slope                       DS: '1.0'\n",
       " (0028, 2110) Lossy Image Compression             CS: '00'\n",
       " (0028, 2112) Lossy Image Compression Ratio       DS: None\n",
       " (0028, 2114) Lossy Image Compression Method      CS: ''\n",
       " (7fe0, 0010) Pixel Data                          OB: Array of 1412524 elements,\n",
       " 'Bronchiolitis')"
      ]
     },
     "execution_count": 17,
     "metadata": {},
     "output_type": "execute_result"
    }
   ],
   "source": [
    "train_data.__getitem__(1)"
   ]
  },
  {
   "cell_type": "code",
   "execution_count": 4,
   "id": "aa02860e",
   "metadata": {},
   "outputs": [
    {
     "name": "stdout",
     "output_type": "stream",
     "text": [
      "Requirement already satisfied: torchvision in c:\\users\\shriv\\appdata\\local\\programs\\python\\python38\\lib\\site-packages (0.8.2+cu110)\n",
      "Requirement already satisfied: pillow>=4.1.1 in c:\\users\\shriv\\appdata\\local\\programs\\python\\python38\\lib\\site-packages (from torchvision) (9.1.0)\n",
      "Requirement already satisfied: numpy in c:\\users\\shriv\\appdata\\roaming\\python\\python38\\site-packages (from torchvision) (1.22.3)\n",
      "Requirement already satisfied: torch==1.7.1 in c:\\users\\shriv\\appdata\\local\\programs\\python\\python38\\lib\\site-packages (from torchvision) (1.7.1+cu110)\n",
      "Requirement already satisfied: typing-extensions in c:\\users\\shriv\\appdata\\local\\programs\\python\\python38\\lib\\site-packages (from torch==1.7.1->torchvision) (4.1.1)\n",
      "Note: you may need to restart the kernel to use updated packages.\n"
     ]
    }
   ],
   "source": [
    "pip install torchvision"
   ]
  },
  {
   "cell_type": "code",
   "execution_count": 5,
   "id": "ac03040d",
   "metadata": {},
   "outputs": [],
   "source": [
    "from torchvision import transforms\n",
    "from torch.utils.data import DataLoader\n",
    "\n",
    "\n",
    "# Note that transforms.ToTensor()\n",
    "# already divides pixels by 255. internally\n",
    "\n",
    "custom_transform = transforms.Compose([#transforms.Lambda(lambda x: x/255.), # not necessary\n",
    "                                       transforms.ToTensor()\n",
    "                                      ])\n",
    "\n",
    "\n",
    "\n",
    "train_loader = DataLoader(dataset=train_data,\n",
    "                          batch_size=32,\n",
    "                          drop_last=True,\n",
    "                          shuffle=True, # want to shuffle the dataset\n",
    "                          num_workers=0) # number processes/CPUs to use"
   ]
  },
  {
   "cell_type": "code",
   "execution_count": null,
   "id": "53738a3d",
   "metadata": {},
   "outputs": [],
   "source": []
  }
 ],
 "metadata": {
  "interpreter": {
   "hash": "c163f7d3600bce78318f6aebf70f2fd9e9ada0d9e383f1dbf1d4b5484416c593"
  },
  "kernelspec": {
   "display_name": "Python 3.8.0 64-bit",
   "language": "python",
   "name": "python3"
  },
  "language_info": {
   "codemirror_mode": {
    "name": "ipython",
    "version": 3
   },
   "file_extension": ".py",
   "mimetype": "text/x-python",
   "name": "python",
   "nbconvert_exporter": "python",
   "pygments_lexer": "ipython3",
   "version": "3.8.0"
  }
 },
 "nbformat": 4,
 "nbformat_minor": 5
}
